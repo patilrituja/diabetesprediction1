{
 "cells": [
  {
   "cell_type": "markdown",
   "id": "c7479086",
   "metadata": {},
   "source": [
    "## Import Libraries"
   ]
  },
  {
   "cell_type": "code",
   "execution_count": 1,
   "id": "52261dca",
   "metadata": {},
   "outputs": [
    {
     "ename": "ImportError",
     "evalue": "cannot import name 'plot_confusion_matrix' from 'sklearn.metrics' (C:\\Users\\Rituja\\anaconda3\\envs\\diabetes_env\\lib\\site-packages\\sklearn\\metrics\\__init__.py)",
     "output_type": "error",
     "traceback": [
      "\u001b[1;31m---------------------------------------------------------------------------\u001b[0m",
      "\u001b[1;31mImportError\u001b[0m                               Traceback (most recent call last)",
      "Cell \u001b[1;32mIn[1], line 6\u001b[0m\n\u001b[0;32m      4\u001b[0m \u001b[38;5;28;01mfrom\u001b[39;00m \u001b[38;5;21;01msklearn\u001b[39;00m\u001b[38;5;21;01m.\u001b[39;00m\u001b[38;5;21;01mmodel_selection\u001b[39;00m \u001b[38;5;28;01mimport\u001b[39;00m train_test_split\n\u001b[0;32m      5\u001b[0m \u001b[38;5;28;01mfrom\u001b[39;00m \u001b[38;5;21;01msklearn\u001b[39;00m\u001b[38;5;21;01m.\u001b[39;00m\u001b[38;5;21;01mlinear_model\u001b[39;00m \u001b[38;5;28;01mimport\u001b[39;00m LogisticRegression\n\u001b[1;32m----> 6\u001b[0m \u001b[38;5;28;01mfrom\u001b[39;00m \u001b[38;5;21;01msklearn\u001b[39;00m\u001b[38;5;21;01m.\u001b[39;00m\u001b[38;5;21;01mmetrics\u001b[39;00m \u001b[38;5;28;01mimport\u001b[39;00m plot_confusion_matrix,classification_report\n\u001b[0;32m      7\u001b[0m \u001b[38;5;28;01mfrom\u001b[39;00m \u001b[38;5;21;01msklearn\u001b[39;00m\u001b[38;5;21;01m.\u001b[39;00m\u001b[38;5;21;01mpreprocessing\u001b[39;00m \u001b[38;5;28;01mimport\u001b[39;00m MinMaxScaler, StandardScaler\n\u001b[0;32m      8\u001b[0m \u001b[38;5;28;01mimport\u001b[39;00m \u001b[38;5;21;01mmatplotlib\u001b[39;00m\u001b[38;5;21;01m.\u001b[39;00m\u001b[38;5;21;01mpyplot\u001b[39;00m \u001b[38;5;28;01mas\u001b[39;00m \u001b[38;5;21;01mplt\u001b[39;00m\n",
      "\u001b[1;31mImportError\u001b[0m: cannot import name 'plot_confusion_matrix' from 'sklearn.metrics' (C:\\Users\\Rituja\\anaconda3\\envs\\diabetes_env\\lib\\site-packages\\sklearn\\metrics\\__init__.py)"
     ]
    }
   ],
   "source": [
    "import numpy as np\n",
    "import pandas as pd\n",
    "import config1\n",
    "from sklearn.model_selection import train_test_split\n",
    "from sklearn.linear_model import LogisticRegression\n",
    "from sklearn.metrics import plot_confusion_matrix,classification_report\n",
    "from sklearn.preprocessing import MinMaxScaler, StandardScaler\n",
    "import matplotlib.pyplot as plt\n",
    "import seaborn as sns\n",
    "import plotly.express as px\n",
    "\n",
    "import pickle\n",
    "import json\n",
    "\n",
    "import warnings\n",
    "warnings.filterwarnings('ignore')\n",
    "\n"
   ]
  },
  {
   "cell_type": "code",
   "execution_count": null,
   "id": "763f8d13",
   "metadata": {},
   "outputs": [],
   "source": [
    "## Data Gathering"
   ]
  },
  {
   "cell_type": "code",
   "execution_count": null,
   "id": "bad9df18",
   "metadata": {},
   "outputs": [],
   "source": [
    "df = pd.read_csv(config1.CSV_FILE_PATH)\n",
    "df"
   ]
  },
  {
   "cell_type": "code",
   "execution_count": null,
   "id": "d0e85d17",
   "metadata": {},
   "outputs": [],
   "source": [
    "df.columns"
   ]
  },
  {
   "cell_type": "code",
   "execution_count": null,
   "id": "a460a719",
   "metadata": {},
   "outputs": [],
   "source": [
    "df['Glucose']"
   ]
  },
  {
   "cell_type": "code",
   "execution_count": null,
   "id": "472ee72b",
   "metadata": {},
   "outputs": [],
   "source": [
    "df['BloodPressure']"
   ]
  },
  {
   "cell_type": "code",
   "execution_count": null,
   "id": "78ba8043",
   "metadata": {},
   "outputs": [],
   "source": [
    "df['SkinThickness']"
   ]
  },
  {
   "cell_type": "code",
   "execution_count": null,
   "id": "789758b7",
   "metadata": {},
   "outputs": [],
   "source": [
    "df['Insulin']"
   ]
  },
  {
   "cell_type": "code",
   "execution_count": null,
   "id": "f3aab65d",
   "metadata": {},
   "outputs": [],
   "source": [
    "df['BMI']"
   ]
  },
  {
   "cell_type": "code",
   "execution_count": null,
   "id": "21f77ec1",
   "metadata": {},
   "outputs": [],
   "source": [
    "df['DiabetesPedigreeFunction']"
   ]
  },
  {
   "cell_type": "code",
   "execution_count": null,
   "id": "7d3eb53c",
   "metadata": {},
   "outputs": [],
   "source": [
    "df['Age']"
   ]
  },
  {
   "cell_type": "code",
   "execution_count": null,
   "id": "1e551535",
   "metadata": {},
   "outputs": [],
   "source": [
    "df['Outcome']"
   ]
  },
  {
   "cell_type": "code",
   "execution_count": null,
   "id": "caf5c911",
   "metadata": {},
   "outputs": [],
   "source": [
    "x = df.drop(\"Outcome\", axis=1)\n",
    "y = df.Outcome"
   ]
  },
  {
   "cell_type": "markdown",
   "id": "71693d46",
   "metadata": {},
   "source": [
    "## Scaling"
   ]
  },
  {
   "cell_type": "code",
   "execution_count": null,
   "id": "7f2e7d28",
   "metadata": {},
   "outputs": [],
   "source": [
    "x = df.drop('Outcome',axis =1)\n",
    "\n",
    "std_scaler2 = StandardScaler() # Xmean and Xstd\n",
    "array1 = std_scaler2.fit_transform(x) # fit + tranform\n",
    "std_dfx = pd.DataFrame(array1, columns=x.columns)\n",
    "std_dfx"
   ]
  },
  {
   "cell_type": "markdown",
   "id": "dee27273",
   "metadata": {},
   "source": [
    "## EDA"
   ]
  },
  {
   "cell_type": "code",
   "execution_count": null,
   "id": "e063c222",
   "metadata": {},
   "outputs": [],
   "source": [
    "df.info()"
   ]
  },
  {
   "cell_type": "markdown",
   "id": "a6f10e0a",
   "metadata": {},
   "source": [
    "\n",
    "\n",
    "## Model Training"
   ]
  },
  {
   "cell_type": "code",
   "execution_count": null,
   "id": "19260682",
   "metadata": {},
   "outputs": [],
   "source": [
    "x_train,x_test, y_train,y_test = train_test_split(x, y, test_size=0.2, random_state=80, stratify=y)"
   ]
  },
  {
   "cell_type": "code",
   "execution_count": null,
   "id": "5d1048e6",
   "metadata": {},
   "outputs": [],
   "source": [
    "log_reg_model = LogisticRegression()\n",
    "log_reg_model.fit(x_train , y_train)"
   ]
  },
  {
   "cell_type": "code",
   "execution_count": null,
   "id": "3412ee39",
   "metadata": {},
   "outputs": [],
   "source": [
    "log_reg_model.score(x_train, y_train)\n",
    "plot_confusion_matrix(log_reg_model , x_train, y_train)"
   ]
  },
  {
   "cell_type": "code",
   "execution_count": null,
   "id": "ffe45aa3",
   "metadata": {},
   "outputs": [],
   "source": [
    "plt.figure(figsize=(5,3))\n",
    "plot_confusion_matrix(log_reg_model,x_test,y_test)\n",
    "plt.savefig('Cnf_matrix_test.png')"
   ]
  },
  {
   "cell_type": "code",
   "execution_count": null,
   "id": "52e47816",
   "metadata": {},
   "outputs": [],
   "source": [
    "y_pred_train = log_reg_model.predict(x_train)"
   ]
  },
  {
   "cell_type": "code",
   "execution_count": null,
   "id": "5e13d142",
   "metadata": {},
   "outputs": [],
   "source": [
    "clf_report = classification_report(y_train, y_pred_train)\n",
    "print(clf_report)"
   ]
  },
  {
   "cell_type": "code",
   "execution_count": null,
   "id": "8a86104b",
   "metadata": {},
   "outputs": [],
   "source": [
    "log_reg_model.score(x_train, y_train)"
   ]
  },
  {
   "cell_type": "markdown",
   "id": "801c930e",
   "metadata": {},
   "source": [
    "## Save Model"
   ]
  },
  {
   "cell_type": "code",
   "execution_count": null,
   "id": "09523fdc",
   "metadata": {},
   "outputs": [],
   "source": [
    "with open(config1.MODEL_FILE_PATH,'wb') as f:\n",
    "    pickle.dump(log_reg_model, f)"
   ]
  },
  {
   "cell_type": "code",
   "execution_count": null,
   "id": "62909d5b",
   "metadata": {},
   "outputs": [],
   "source": [
    "log_reg_model.n_features_in_"
   ]
  },
  {
   "cell_type": "code",
   "execution_count": null,
   "id": "acfac553",
   "metadata": {},
   "outputs": [],
   "source": [
    "np.zeros(7)"
   ]
  },
  {
   "cell_type": "code",
   "execution_count": null,
   "id": "4fa7da3a",
   "metadata": {},
   "outputs": [],
   "source": [
    "with open(config1.SCALER_PATH,\"wb\") as f:\n",
    "    pickle.dump(std_scaler2,f)"
   ]
  },
  {
   "cell_type": "code",
   "execution_count": null,
   "id": "37e40977",
   "metadata": {},
   "outputs": [],
   "source": []
  }
 ],
 "metadata": {
  "kernelspec": {
   "display_name": "diabetes_env",
   "language": "python",
   "name": "diabetes_env"
  },
  "language_info": {
   "codemirror_mode": {
    "name": "ipython",
    "version": 3
   },
   "file_extension": ".py",
   "mimetype": "text/x-python",
   "name": "python",
   "nbconvert_exporter": "python",
   "pygments_lexer": "ipython3",
   "version": "3.10.4"
  },
  "vscode": {
   "interpreter": {
    "hash": "fbbc0350df861fb499e96a8cccc77ec7690a7d21633ec710828e62828b70e1f8"
   }
  }
 },
 "nbformat": 4,
 "nbformat_minor": 5
}
